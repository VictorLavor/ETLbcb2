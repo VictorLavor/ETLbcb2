{
 "cells": [
  {
   "cell_type": "markdown",
   "id": "49043e73",
   "metadata": {},
   "source": [
    "## Estatísticas de Meios de Pagamentos\n",
    "\n",
    "Este conjunto contém diversas estatísticas relacionadas aos seguintes MEIOS DE PAGAMENTO:\n",
    "\n",
    "Instrumentos de periodicidade mensal, com atualização 17 dias após o final do mês de referência:\n",
    "\n",
    "Pix (fonte: SPI e documento 1201)\n",
    "TED (fonte: CIP-SITRAF e STR)\n",
    "Boletos (fonte: CIP-SILOC)\n",
    "DOC e TEC (fonte: CIP-SILOC)\n",
    "Cheque (fonte: Compe)\n",
    "Instrumentos de periodicidade trimestral, com atualização 2 meses após o final do trimestre de referência:\n",
    "\n",
    "Cartões de crédito, débito e pré-pagos (fonte: documentos 6308 e 6334)\n",
    "Pagamentos de convênio, saques, transferências intrabancárias e débito direto (fonte: documento 6209)\n",
    "Volumetria das transações intrabancárias (fonte: documento 6209)\n",
    "Estabelecimentos credenciados (fonte: documento 6334)\n",
    "Volumetria por canal de acesso e produto (fonte: documento 6209)\n",
    "Quantidade de ATMs (fonte: documento 6209)\n",
    "Tarifas de intercâmbio (TIC) e taxas de desconto (MDR) - (fonte: documento 6334)\n",
    "Terminais POS/PDV\n",
    "Programas de recompensa e fidelidade\n",
    "\n",
    "Dicionário de dados\n",
    "\n",
    "| Nome                         | Tipo    | Título                                    | Descrição                                                                                                                                                                                                                                       |\n",
    "| ---------------------------- | ------- | ----------------------------------------- | ----------------------------------------------------------------------------------------------------------------------------------------------------------------------------------------------------------------------------------------------- |\n",
    "| datatrimestre                | texto   | Trimestre                                 |                                                                                                                                                                                                                                                 |\n",
    "| valorPix                     | decimal | Valor Pix                                 | Volume financeiro (R\\$ milhões) de transações Pix liquidadas trimestralmente no SPI e fora do SPI, considerando ordens de pagamento e devoluções no período. Dados referentes às transações liquidadas fora do SPI estão sujeitas a alterações. |\n",
    "| valorTED                     | decimal | Valor TED                                 | Montante financeiro (R\\$ milhões) trimestral transferido por meio de TED. Transferência Eletrônica Direta (TED) em tempo real entre diferentes instituições, usada para transferir valores entre correntistas e entre instituições.             |\n",
    "| valorTEC                     | decimal | Valor TEC                                 | Montante financeiro (R\\$ milhões) trimestral transferido por meio de TEC. Transferência Especial de Crédito (TEC) utilizada por empresas para pagamento de benefícios aos empregados.                                                           |\n",
    "| valorCheque                  | decimal | Valor Cheque                              | Montante financeiro (R\\$ milhões) de cheques interbancários e intrabancários compensados trimestralmente.                                                                                                                                       |\n",
    "| valorBoleto                  | decimal | Valor Boleto                              | Montante financeiro (R\\$ milhões) de boletos interbancários e intrabancários compensados trimestralmente.                                                                                                                                       |\n",
    "| valorDOC                     | decimal | Valor DOC                                 | Montante financeiro (R\\$ milhões) trimestral transferido por meio de DOC.                                                                                                                                                                       |\n",
    "| valorCartaoCredito           | decimal | Valor Cartão de Crédito                   | Valor (R\\$ milhões) de transações realizadas com cartão de crédito.                                                                                                                                                                             |\n",
    "| valorCartaoDebito            | decimal | Valor Cartão de Débito                    | Valor (R\\$ milhões) de transações realizadas com cartão de débito trimestralmente.                                                                                                                                                              |\n",
    "| valorCartaoPrePago           | decimal | Valor Cartão Pré-pago                     | Valor (R\\$ milhões) de transações realizadas com cartão pré-pago trimestralmente.                                                                                                                                                               |\n",
    "| valorTransIntrabancaria      | decimal | Valor Transferência Intrabancária         | Montante financeiro (R\\$ milhões) de transferências realizadas trimestralmente entre contas de clientes da Instituição, inclusive aplicações e resgates em fundos de investimento.                                                              |\n",
    "| valorConvenios               | decimal | Valor Convênio                            | Montante financeiro (R\\$ milhões) de arrecadações trimestrais governamentais (tributos e encargos sociais) e não-governamentais, em virtude de convênios firmados entre a instituição e entidades públicas ou privadas.                         |\n",
    "| valorDebitoDireto            | decimal | Valor Débito Direto                       | Montante financeiro (R\\$ milhões) trimestral de débitos previamente autorizados pelo cliente, referente a contas recorrentes e tarifas de serviços.                                                                                             |\n",
    "| valorSaques                  | decimal | Valor Saque                               | Montante sacado (R\\$ milhões) nos caixas eletrônicos trimestralmente.                                                                                                                                                                           |\n",
    "| quantidadePix                | decimal | Quantidade Pix                            | Quantidade (em milhares) de transações Pix liquidadas trimestralmente no SPI e fora do SPI, considerando ordens de pagamento e devoluções.                                                                                                      |\n",
    "| quantidadeTED                | decimal | Quantidade TED                            | Quantidade (em milhares) de TED realizadas trimestralmente.                                                                                                                                                                                     |\n",
    "| quantidadeTEC                | decimal | Quantidade TEC                            | Quantidade (em milhares) de TEC realizadas trimestralmente.                                                                                                                                                                                     |\n",
    "| quantidadeCheque             | decimal | Quantidade Cheque                         | Quantidade (em milhares) de cheques interbancários e intrabancários compensados trimestralmente.                                                                                                                                                |\n",
    "| quantidadeBoleto             | decimal | Quantidade Boleto                         | Quantidade (em milhares) de boletos interbancários e intrabancários compensados trimestralmente.                                                                                                                                                |\n",
    "| quantidadeDOC                | decimal | Quantidade DOC                            | Quantidade (em milhares) de DOC realizados trimestralmente.                                                                                                                                                                                     |\n",
    "| quantidadeCartaoCredito      | decimal | Quantidade Cartão de Crédito              | Quantidade (em milhares) de transações realizadas com cartão de crédito trimestralmente.                                                                                                                                                        |\n",
    "| quantidadeCartaoDebito       | decimal | Quantidade Cartão de Débito               | Quantidade (em milhares) de transações realizadas com cartão de débito trimestralmente.                                                                                                                                                         |\n",
    "| quantidadeCartaoPrePago      | decimal | Quantidade Cartão Pré-pago                | Quantidade (em milhares) de transações realizadas com cartão pré-pago trimestralmente.                                                                                                                                                          |\n",
    "| quantidadeTransIntrabancaria | decimal | Quantidade de Transferência Intrabancária | Quantidade (em milhares) de transferências realizadas trimestralmente entre contas de clientes da Instituição, inclusive aplicações e resgates em fundos de investimento.                                                                       |\n",
    "| quantidadeConvenios          | decimal | Quantidade Convênio                       | Quantidade (em milhares) de arrecadações trimestrais governamentais e não-governamentais referentes a convênios firmados entre a instituição e entidades públicas ou privadas.                                                                  |\n",
    "| quantidadeDebitoDireto       | decimal | Quantidade Débito Direto                  | Quantidade (em milhares) de transações trimestrais de débitos previamente autorizados pelo cliente, referentes a contas recorrentes e tarifas de serviços.                                                                                      |\n",
    "| quantidadeSaques             | decimal | Quantidade de Saque                       | Quantidade (em milhares) de saques realizados nos caixas eletrônicos trimestralmente.                                                                                                                                                           |\n"
   ]
  },
  {
   "cell_type": "markdown",
   "id": "17992632",
   "metadata": {},
   "source": [
    "## Análise exploratória"
   ]
  },
  {
   "cell_type": "code",
   "execution_count": 30,
   "id": "5575e1a9",
   "metadata": {},
   "outputs": [],
   "source": [
    "import pandas as pd\n",
    "import sqlite3\n",
    "\n",
    "con = sqlite3.connect(\"src/datasets/etlbcb.db\")\n",
    "query = \"select * from meios_pagamentos_tri\"\n",
    "df = pd.read_sql(query, con)\n",
    "con.close()"
   ]
  },
  {
   "cell_type": "markdown",
   "id": "5f73ec84",
   "metadata": {},
   "source": [
    "Primeiro vamos explorar a estrutura do conjunto de dados"
   ]
  },
  {
   "cell_type": "code",
   "execution_count": null,
   "id": "6294423d",
   "metadata": {},
   "outputs": [],
   "source": []
  },
  {
   "cell_type": "markdown",
   "id": "f96c5845",
   "metadata": {},
   "source": [
    "Aparentemente não temos dados faltantes, mas vamos comprovar:"
   ]
  },
  {
   "cell_type": "code",
   "execution_count": null,
   "id": "3f8d3eb4",
   "metadata": {},
   "outputs": [],
   "source": []
  },
  {
   "cell_type": "markdown",
   "id": "332553ee",
   "metadata": {},
   "source": [
    "Note que data trimestre está como object(string), mas seria mais interessante estar como Date. Vamos comprovar isso."
   ]
  },
  {
   "cell_type": "code",
   "execution_count": null,
   "id": "058ef8e2",
   "metadata": {},
   "outputs": [],
   "source": []
  },
  {
   "cell_type": "markdown",
   "id": "ae09d45b",
   "metadata": {},
   "source": [
    "Convertendo para date."
   ]
  },
  {
   "cell_type": "code",
   "execution_count": null,
   "id": "e743cfe5",
   "metadata": {},
   "outputs": [],
   "source": []
  },
  {
   "cell_type": "code",
   "execution_count": null,
   "id": "3a571cde",
   "metadata": {},
   "outputs": [],
   "source": []
  },
  {
   "cell_type": "markdown",
   "id": "95588442",
   "metadata": {},
   "source": [
    "Ajustando as colunas que estão em milhões"
   ]
  },
  {
   "cell_type": "code",
   "execution_count": 67,
   "id": "0f72bf0e",
   "metadata": {},
   "outputs": [],
   "source": [
    "monetary_cols = [\n",
    "    'valorPix', 'valorTED', 'valorTEC', 'valorCheque', 'valorBoleto',\n",
    "    'valorDOC', 'valorCartaoCredito', 'valorCartaoDebito', 'valorCartaoPrePago',\n",
    "    'valorTransIntrabancaria', 'valorConvenios', 'valorDebitoDireto', 'valorSaques'\n",
    "]\n"
   ]
  },
  {
   "cell_type": "markdown",
   "id": "96d7ce1d",
   "metadata": {},
   "source": [
    "Ajustando as colunas que estão em milhares"
   ]
  },
  {
   "cell_type": "code",
   "execution_count": 68,
   "id": "20c91364",
   "metadata": {},
   "outputs": [],
   "source": [
    "thousands_cols = [\n",
    "    'quantidadePix', 'quantidadeTED', 'quantidadeTEC', 'quantidadeCheque',\n",
    "    'quantidadeBoleto', 'quantidadeDOC', 'quantidadeCartaoCredito',\n",
    "    'quantidadeCartaoDebito', 'quantidadeCartaoPrePago',\n",
    "    'quantidadeTransIntrabancaria', 'quantidadeConvenios',\n",
    "    'quantidadeDebitoDireto', 'quantidadeSaques'\n",
    "]\n"
   ]
  },
  {
   "cell_type": "markdown",
   "id": "5a0672fe",
   "metadata": {},
   "source": [
    "## Estatísticas Descritivas\n",
    "\n",
    "Nosso conjunto de dados está com muitas colunas, vamos nos concentrar em um tema específico para continuar com a análise. \n",
    "\n",
    "Vamos nos concentrar nas séries de Pix e cartões."
   ]
  },
  {
   "cell_type": "code",
   "execution_count": 69,
   "id": "7b7332ce",
   "metadata": {},
   "outputs": [],
   "source": [
    "date_col = ['datatrimestre']\n",
    "\n",
    "pix_cols = ['valorPix', 'quantidadePix']\n",
    "\n",
    "cartao_cols = [\n",
    "    'valorCartaoCredito', 'quantidadeCartaoCredito',\n",
    "    'valorCartaoDebito',  'quantidadeCartaoDebito',\n",
    "    'valorCartaoPrePago', 'quantidadeCartaoPrePago'\n",
    "]\n"
   ]
  },
  {
   "cell_type": "code",
   "execution_count": null,
   "id": "59765b51",
   "metadata": {},
   "outputs": [],
   "source": []
  },
  {
   "cell_type": "markdown",
   "id": "c96bed1b",
   "metadata": {},
   "source": [
    "## Estudo das Médias"
   ]
  },
  {
   "cell_type": "markdown",
   "id": "127ce166",
   "metadata": {},
   "source": [
    "Nas aulas passadas encontramos o valor:"
   ]
  },
  {
   "cell_type": "code",
   "execution_count": 49,
   "id": "851317e2",
   "metadata": {},
   "outputs": [
    {
     "data": {
      "text/plain": [
       "np.float64(430.713035665615)"
      ]
     },
     "execution_count": 49,
     "metadata": {},
     "output_type": "execute_result"
    }
   ],
   "source": [
    "soma1 = df_pix_cards['valorPix'].sum()\n",
    "soma2 = df_pix_cards['quantidadePix'].sum()\n",
    "\n",
    "soma1/soma2"
   ]
  },
  {
   "cell_type": "markdown",
   "id": "8dffcce4",
   "metadata": {},
   "source": [
    "Por outro lado:"
   ]
  },
  {
   "cell_type": "code",
   "execution_count": null,
   "id": "e1aeb59d",
   "metadata": {},
   "outputs": [],
   "source": []
  },
  {
   "cell_type": "markdown",
   "id": "802fd882",
   "metadata": {},
   "source": [
    "A diferença existe porque, na segunda abordagem, você está dando peso igual a cada trimestre, independentemente de quantas transações ocorreram naquele período. Já na primeira, cada transação — seja no trimestre que for — “conta” igualmente, o que faz o trimestre com mais transações influenciar mais o resultado final.\n",
    "\n",
    "\n",
    "| Métrica                                  | Fórmula                                                    | Interpretação                                                  |\n",
    "| ---------------------------------------- | ---------------------------------------------------------- | -------------------------------------------------------------- |\n",
    "| Média geral (ponderada)                  | $\\sum_i valorPix_i \\,/\\, \\sum_i quantidadePix_i$           | Valor médio por transação considerando todo o volume           |\n",
    "| Média das médias trimestrais (não-pond.) | $\\tfrac{1}{n}\\sum_i\\bigl(valorPix_i/quantidadePix_i\\bigr)$ | Valor médio por transação onde cada trimestre tem “peso” igual |\n",
    "\n",
    "Use a **média geral** quando quiser o valor médio de toda a amostra, e a **média das médias trimestrais** quando quiser tratar cada período (trimestre) com igual importância.\n"
   ]
  },
  {
   "cell_type": "markdown",
   "id": "3c5015f4",
   "metadata": {},
   "source": [
    "### Variância e Desvio-Padrão"
   ]
  },
  {
   "cell_type": "code",
   "execution_count": null,
   "id": "60c50bd7",
   "metadata": {},
   "outputs": [],
   "source": [
    "\n"
   ]
  },
  {
   "cell_type": "markdown",
   "id": "4a7d3010",
   "metadata": {},
   "source": [
    "Esse é o “tamanho típico” da variação em torno de R\\$ 491. Na prática, significa que cerca de 68% dos trimestres tiveram valor médio por transação entre\n",
    "\n",
    "  $$\n",
    "    491 - 121{,}7 \\approx 369 \\quad\\text{e}\\quad 491 + 121{,}7 \\approx 613.\n",
    "  $$\n",
    "\n",
    "### Interpretação prática\n",
    "\n",
    "1. **Dispersão moderada**\n",
    "   Um desvio-padrão de R\\$ 122 em torno de R\\$ 491 equivale a um coeficiente de variação de\n",
    "\n",
    "   $$\n",
    "     \\frac{121{,}7}{491} \\approx 0{,}25\\quad(\\,25\\%\\,),\n",
    "   $$\n",
    "\n",
    "   ou seja, as médias trimestrais flutuam em torno de ±25% da média geral.\n",
    "\n",
    "2. **Potenciais causas**\n",
    "\n",
    "   * **Sazonalidade**: se alguns trimestres (ex.: fim de ano) tendem a ter transações maiores, isso eleva o desvio.\n",
    "   * **Mudanças estruturais**: adoção crescente de Pix, promoções ou campanhas podem alterar o ticket médio.\n",
    "\n",
    "3. **Uso da métrica**\n",
    "\n",
    "   * **Planejamento**: saber que “normalmente” o ticket médio fica entre R\\$ 369 e R\\$ 613 ajuda a projetar receitas futuras.\n",
    "   * **Detecção de anomalias**: trimestres fora desse intervalo (muito acima ou abaixo) podem merecer investigação.\n",
    "\n",
    "Em suma, embora o valor médio seja R\\$ 491, existe uma variabilidade não desprezível de cerca de R\\$ 122 entre trimestres, indicando que fatores sazonais ou de comportamento do consumidor fazem o ticket médio de Pix oscilar em torno desse patamar.\n"
   ]
  },
  {
   "cell_type": "markdown",
   "id": "5a674c13",
   "metadata": {},
   "source": [
    "## Visualizações\n",
    "\n",
    "para complementar o processo de análise de dados vamos gerar alguns gráficos, para isso usaremos a biblioteca matplotlib.\n",
    "\n"
   ]
  },
  {
   "cell_type": "markdown",
   "id": "0fab6f34",
   "metadata": {},
   "source": [
    "**Histograma**\n",
    "Mostra a distribuição de frequências de uma variável numérica dividida em “bins” (intervalos). Cada barra indica quantos valores caem em cada faixa. Use quando quiser entender a forma geral dos dados (simetria, sesgo, picôs múltiplos) e identificar aglomerados ou lacunas.\n"
   ]
  },
  {
   "cell_type": "code",
   "execution_count": null,
   "id": "d429e07d",
   "metadata": {},
   "outputs": [],
   "source": []
  },
  {
   "cell_type": "markdown",
   "id": "0e44e88d",
   "metadata": {},
   "source": [
    "**Série temporal (line plot)**\n",
    "Plota um valor ao longo de um eixo temporal conectado por linhas. Ideal para acompanhar tendências, ciclos sazonais e rupturas em séries de tempo (ex.: evolução do ticket médio de Pix trimestre a trimestre). Ajuda a visualizar crescimento, quedas e padrões periódicos."
   ]
  },
  {
   "cell_type": "code",
   "execution_count": null,
   "id": "b8054589",
   "metadata": {},
   "outputs": [],
   "source": []
  },
  {
   "cell_type": "markdown",
   "id": "c001e658",
   "metadata": {},
   "source": [
    "**Box-plot**\n",
    "Representa a mediana, quartis e potenciais outliers de um conjunto de observações. A “caixa” vai do primeiro ao terceiro quartil, com uma linha na mediana, e “bigodes” indicando o alcance dos dados sem outliers. Use para comparar dispersão e simetria entre grupos (por exemplo, diferentes canais de pagamento) e para detectar valores atípicos."
   ]
  },
  {
   "cell_type": "code",
   "execution_count": null,
   "id": "43700a86",
   "metadata": {},
   "outputs": [],
   "source": []
  },
  {
   "cell_type": "markdown",
   "id": "875d0a03",
   "metadata": {},
   "source": [
    "**Exercício:** Fazer um estudo das médias semelhante para os diferentes tipos de Cartões."
   ]
  }
 ],
 "metadata": {
  "kernelspec": {
   "display_name": ".venv",
   "language": "python",
   "name": "python3"
  },
  "language_info": {
   "codemirror_mode": {
    "name": "ipython",
    "version": 3
   },
   "file_extension": ".py",
   "mimetype": "text/x-python",
   "name": "python",
   "nbconvert_exporter": "python",
   "pygments_lexer": "ipython3",
   "version": "3.12.10"
  }
 },
 "nbformat": 4,
 "nbformat_minor": 5
}
